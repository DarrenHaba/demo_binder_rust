println!("Hello world");
eprintln!("Hello error");
format!("Hello {}", "world")
